{
 "cells": [
  {
   "cell_type": "code",
   "execution_count": 1,
   "metadata": {},
   "outputs": [],
   "source": [
    "%matplotlib inline\n",
    "import torch\n",
    "from torch.autograd import Variable\n",
    "import torch.nn as nn\n",
    "import torch.nn.functional as F\n",
    "import torch.optim as optim\n",
    "import torchvision\n",
    "import torchvision.transforms as transforms\n",
    "\n",
    "import matplotlib.pyplot as plt\n",
    "import numpy as np"
   ]
  },
  {
   "cell_type": "code",
   "execution_count": 2,
   "metadata": {},
   "outputs": [],
   "source": [
    "#use_gpu = torch.cuda.is_available()"
   ]
  },
  {
   "cell_type": "markdown",
   "metadata": {},
   "source": [
    "# Function area\n",
    "Parameters summary function come from stackoverflow：  <br/>\n",
    "https://stackoverflow.com/questions/42480111/model-summary-in-pytorch\n",
    "\n",
    "'''\n",
    "Note1.<br/>\n",
    "def _addindent(s_, numSpaces):\n",
    "    s = s_.split('\\n')\n",
    "    # dont do anything for single-line stuff\n",
    "    if len(s) == 1:\n",
    "        return s_\n",
    "    first = s.pop(0)\n",
    "    s = [(numSpaces * ' ') + line for line in s]\n",
    "    s = '\\n'.join(s)\n",
    "    s = first + '\\n' + s\n",
    "    return s\n",
    "\n",
    "Note2. np.prod: Return the product of array elements over a given axis.\n",
    "'''"
   ]
  },
  {
   "cell_type": "code",
   "execution_count": 3,
   "metadata": {},
   "outputs": [],
   "source": [
    "# Function 1\n",
    "from torch.nn.modules.module import _addindent\n",
    "def torch_summarize(model, show_weights=True, show_parameters=True):\n",
    "    \"\"\"Summarizes torch model by showing trainable parameters and weights.\"\"\"\n",
    "    total_params = 0\n",
    "    tmpstr = model.__class__.__name__ + ' :\\n' #Pring the object name\n",
    "    for key, module in model._modules.items():\n",
    "        # if it contains layers let call it recursively to get params and weights\n",
    "        if type(module) in [\n",
    "                    torch.nn.modules.container.Container,\n",
    "                    torch.nn.modules.container.Sequential\n",
    "                            ]:\n",
    "            modstr = torch_summarize(module)\n",
    "        else:\n",
    "            modstr = module.__repr__()\n",
    "        modstr = _addindent(modstr, 2) # Note1\n",
    "        \n",
    "        params = sum([np.prod(p.size()) for p in module.parameters()]) # Note2\n",
    "        weights = tuple([tuple(p.size()) for p in module.parameters()])\n",
    "        total_params = total_params + params \n",
    "        tmpstr += '  (' + key + '): ' + modstr \n",
    "        if show_weights:\n",
    "            tmpstr += ', weights={}'.format(weights)\n",
    "        if show_parameters:\n",
    "            tmpstr +=  ', parameters={}'.format(params)\n",
    "        tmpstr += '\\n------------------------------------------------------\\n'\n",
    "    tmpstr = tmpstr + ')'\n",
    "    tmpstr = tmpstr + ' \\n##Total Parameters = {} '.format(total_params)\n",
    "    return tmpstr\n",
    "\n",
    "\n",
    "# Function 2\n",
    "def show_batch(batch):\n",
    "    '''Show image of one batch'''\n",
    "    im = torchvision.utils.make_grid(batch)\n",
    "    plt.imshow(np.transpose(im.numpy(), (1, 2, 0)))"
   ]
  },
  {
   "cell_type": "markdown",
   "metadata": {},
   "source": [
    "# Load MNIST Data"
   ]
  },
  {
   "cell_type": "code",
   "execution_count": 4,
   "metadata": {},
   "outputs": [],
   "source": [
    "BATCH_SIZE = 200 # setting batch size\n",
    "transform = transforms.ToTensor() # Transform them to tensors\n",
    "\n",
    "# Load and transform data\n",
    "trainset = torchvision.datasets.MNIST('./mnist', train=True, download=True, transform=transform)\n",
    "#testset = torchvision.datasets.MNIST('./mnist', train=False, download=True, transform=transform)\n",
    "\n",
    "trainloader = torch.utils.data.DataLoader(trainset, batch_size=BATCH_SIZE, shuffle=True, num_workers=2)\n",
    "#testloader = torch.utils.data.DataLoader(testset, batch_size=BATCH_SIZE, shuffle=False, num_workers=2)"
   ]
  },
  {
   "cell_type": "code",
   "execution_count": 5,
   "metadata": {},
   "outputs": [
    {
     "name": "stdout",
     "output_type": "stream",
     "text": [
      "Batch shape:  torch.Size([200, 1, 28, 28])\n"
     ]
    },
    {
     "data": {
      "image/png": "[encoded data removed]",
      "text/plain": [
       "<Figure size 432x288 with 1 Axes>"
      ]
     },
     "metadata": {},
     "output_type": "display_data"
    }
   ],
   "source": [
    "dataiter = iter(trainloader)\n",
    "images, labels = dataiter.next()\n",
    "\n",
    "#print('Labels: ', list(labels))\n",
    "print('Batch shape: ', images.size())\n",
    "show_batch(images)"
   ]
  },
  {
   "cell_type": "code",
   "execution_count": null,
   "metadata": {},
   "outputs": [],
   "source": []
  },
  {
   "cell_type": "markdown",
   "metadata": {},
   "source": [
    "# Build Shallow Model\n",
    "How to get the size of feature map: <br>\n",
    "Output H = 1 + (input H + 2Panding - Filter H)/Stride <br>\n",
    "Output W = 1 + (input W + 2Panding - Filter W)/Stride <br>"
   ]
  },
  {
   "cell_type": "code",
   "execution_count": 10,
   "metadata": {},
   "outputs": [],
   "source": [
    "class Shallow_model(nn.Module):\n",
    "    def __init__(self):\n",
    "        super(Shallow_model, self).__init__()\n",
    "        self.layer1 = nn.Sequential(\n",
    "            nn.Conv2d(in_channels=1, out_channels=105, kernel_size=3, stride=1),\n",
    "            nn.ReLU(inplace=True),\n",
    "            nn.MaxPool2d(kernel_size=2, stride=2)\n",
    "        )\n",
    "        \n",
    "        \n",
    "        # fully connected layer\n",
    "        self.fc1 = nn.Sequential(\n",
    "            nn.Linear(in_features=13*13*105, out_features=10))\n",
    "        \n",
    "    def forward(self, x):\n",
    "        out = self.layer1(x)\n",
    "        out = out.view(out.size(0), -1)\n",
    "        out = self.fc1(out)\n",
    "        return F.log_softmax(out) #last layer is softmax layer"
   ]
  },
  {
   "cell_type": "code",
   "execution_count": 11,
   "metadata": {},
   "outputs": [],
   "source": [
    "# Setting the model & loss function & optimizer\n",
    "SNet = Shallow_model()\n",
    "loss_func = nn.CrossEntropyLoss(size_average=False)\n",
    "optimizer = torch.optim.Adam(SNet.parameters(), lr=1e-3, betas=(0.9, 0.99))"
   ]
  },
  {
   "cell_type": "code",
   "execution_count": 12,
   "metadata": {},
   "outputs": [
    {
     "name": "stdout",
     "output_type": "stream",
     "text": [
      "Shallow_model :\n",
      "  (layer1): Sequential :\n",
      "    (0): Conv2d(1, 105, kernel_size=(3, 3), stride=(1, 1)), weights=((105, 1, 3, 3), (105,)), parameters=1050\n",
      "  ------------------------------------------------------\n",
      "    (1): ReLU(inplace), weights=(), parameters=0\n",
      "  ------------------------------------------------------\n",
      "    (2): MaxPool2d(kernel_size=(2, 2), stride=(2, 2), dilation=(1, 1), ceil_mode=False), weights=(), parameters=0\n",
      "  ------------------------------------------------------\n",
      "  ) \n",
      "  ##Total Parameters = 1050 , weights=((105, 1, 3, 3), (105,)), parameters=1050\n",
      "------------------------------------------------------\n",
      "  (fc1): Sequential :\n",
      "    (0): Linear(in_features=17745, out_features=10, bias=True), weights=((10, 17745), (10,)), parameters=177460\n",
      "  ------------------------------------------------------\n",
      "  ) \n",
      "  ##Total Parameters = 177460 , weights=((10, 17745), (10,)), parameters=177460\n",
      "------------------------------------------------------\n",
      ") \n",
      "##Total Parameters = 178510 \n"
     ]
    }
   ],
   "source": [
    "print(torch_summarize(SNet))"
   ]
  },
  {
   "cell_type": "code",
   "execution_count": 13,
   "metadata": {},
   "outputs": [
    {
     "name": "stderr",
     "output_type": "stream",
     "text": [
      "/home/eric/anaconda3/envs/pytorch_gpu/lib/python3.6/site-packages/ipykernel_launcher.py:19: UserWarning: Implicit dimension choice for log_softmax has been deprecated. Change the call to include dim=X as an argument.\n"
     ]
    },
    {
     "name": "stdout",
     "output_type": "stream",
     "text": [
      "Train Epoch: 1 [3800/60000 (6%)]\tLoss: 124.736107,  Accumulation batch acc=60.8%\n",
      "Train Epoch: 1 [7800/60000 (13%)]\tLoss: 76.771278,  Accumulation batch acc=74.0%\n",
      "Train Epoch: 1 [11800/60000 (20%)]\tLoss: 76.151733,  Accumulation batch acc=79.6%\n",
      "Train Epoch: 1 [15800/60000 (26%)]\tLoss: 47.040329,  Accumulation batch acc=82.9%\n",
      "Train Epoch: 1 [19800/60000 (33%)]\tLoss: 44.093231,  Accumulation batch acc=85.0%\n",
      "Train Epoch: 1 [23800/60000 (40%)]\tLoss: 39.303097,  Accumulation batch acc=86.5%\n",
      "Train Epoch: 1 [27800/60000 (46%)]\tLoss: 29.995150,  Accumulation batch acc=87.7%\n",
      "Train Epoch: 1 [31800/60000 (53%)]\tLoss: 46.388893,  Accumulation batch acc=88.6%\n",
      "Train Epoch: 1 [35800/60000 (60%)]\tLoss: 27.591980,  Accumulation batch acc=89.4%\n",
      "Train Epoch: 1 [39800/60000 (66%)]\tLoss: 39.556881,  Accumulation batch acc=90.0%\n",
      "Train Epoch: 1 [43800/60000 (73%)]\tLoss: 29.579845,  Accumulation batch acc=90.5%\n",
      "Train Epoch: 1 [47800/60000 (80%)]\tLoss: 36.751682,  Accumulation batch acc=91.0%\n",
      "Train Epoch: 1 [51800/60000 (86%)]\tLoss: 25.697157,  Accumulation batch acc=91.4%\n",
      "Train Epoch: 1 [55800/60000 (93%)]\tLoss: 30.895018,  Accumulation batch acc=91.8%\n",
      "Train Epoch: 1 [59800/60000 (100%)]\tLoss: 25.055357,  Accumulation batch acc=92.1%\n",
      "Train Epoch: 2 [3800/60000 (6%)]\tLoss: 13.464671,  Accumulation batch acc=97.5%\n",
      "Train Epoch: 2 [7800/60000 (13%)]\tLoss: 17.068445,  Accumulation batch acc=97.5%\n",
      "Train Epoch: 2 [11800/60000 (20%)]\tLoss: 15.550008,  Accumulation batch acc=97.6%\n",
      "Train Epoch: 2 [15800/60000 (26%)]\tLoss: 24.389906,  Accumulation batch acc=97.5%\n",
      "Train Epoch: 2 [19800/60000 (33%)]\tLoss: 22.837128,  Accumulation batch acc=97.5%\n",
      "Train Epoch: 2 [23800/60000 (40%)]\tLoss: 16.299644,  Accumulation batch acc=97.4%\n",
      "Train Epoch: 2 [27800/60000 (46%)]\tLoss: 10.810911,  Accumulation batch acc=97.5%\n",
      "Train Epoch: 2 [31800/60000 (53%)]\tLoss: 13.949410,  Accumulation batch acc=97.5%\n",
      "Train Epoch: 2 [35800/60000 (60%)]\tLoss: 17.886375,  Accumulation batch acc=97.5%\n",
      "Train Epoch: 2 [39800/60000 (66%)]\tLoss: 12.107552,  Accumulation batch acc=97.5%\n",
      "Train Epoch: 2 [43800/60000 (73%)]\tLoss: 7.118986,  Accumulation batch acc=97.6%\n",
      "Train Epoch: 2 [47800/60000 (80%)]\tLoss: 21.743937,  Accumulation batch acc=97.6%\n",
      "Train Epoch: 2 [51800/60000 (86%)]\tLoss: 21.522108,  Accumulation batch acc=97.6%\n",
      "Train Epoch: 2 [55800/60000 (93%)]\tLoss: 14.585538,  Accumulation batch acc=97.7%\n",
      "Train Epoch: 2 [59800/60000 (100%)]\tLoss: 10.544326,  Accumulation batch acc=97.7%\n"
     ]
    }
   ],
   "source": [
    "# Running Model \n",
    "loss_old = 0.01\n",
    "check_time = 0\n",
    "num_of_epoch = 10\n",
    "\n",
    "iters = 0\n",
    "for epoch in range(num_of_epoch):\n",
    "    correct = 0\n",
    "    for i, (images, labels) in enumerate(trainloader):\n",
    "        # convert tensor to Variable\n",
    "        images = Variable(images)\n",
    "        labels = Variable(labels)\n",
    "\n",
    "        # clear gradients w.r.t parameters\n",
    "        optimizer.zero_grad()\n",
    "\n",
    "        # forward pass\n",
    "        outputs = SNet(images)\n",
    "\n",
    "        # calculate loss\n",
    "        loss = loss_func(outputs, labels)\n",
    "\n",
    "        # get gradient w.r.t parameters\n",
    "        loss.backward()\n",
    "\n",
    "        # update parameters\n",
    "        optimizer.step()\n",
    "\n",
    "        iters += 1\n",
    "        \n",
    "        # Accuracy (each batch)\n",
    "        pred = outputs.data.max(1)[1] # get the index of the max log-probability\n",
    "        correct += pred.eq(labels.data).cpu().sum()\n",
    "        Acc = correct / ((i+1)*BATCH_SIZE) * 100\n",
    "        if iters % 20 == 0:     \n",
    "            print('Train Epoch: {} [{}/{} ({:.0f}%)]\\tLoss: {:.6f},  Accumulation batch acc={:.1f}%'.format(\n",
    "                    epoch+1, i * len(images), len(trainloader.dataset),\n",
    "                    100. * i / len(trainloader), loss.data[0], Acc))\n",
    "    if Acc >= 97: break"
   ]
  },
  {
   "cell_type": "markdown",
   "metadata": {},
   "source": [
    "# Deep Model\n",
    "How to get the size of feature map: <br>\n",
    "Output H = 1 + (input H + 2Panding - Filter H)/Stride <br>\n",
    "Output W = 1 + (input W + 2Panding - Filter W)/Stride <br>"
   ]
  },
  {
   "cell_type": "code",
   "execution_count": 14,
   "metadata": {},
   "outputs": [],
   "source": [
    "# Filter number of Conv layers\n",
    "fil = [30, 35, 30]\n",
    "\n",
    "class Deep_model(nn.Module):\n",
    "    def __init__(self):\n",
    "        super(Deep_model, self).__init__()\n",
    "        \n",
    "        self.layer1 = nn.Sequential(\n",
    "            nn.Conv2d(in_channels=1, out_channels=fil[0], kernel_size=5, stride=1),\n",
    "            nn.ReLU(inplace=True),\n",
    "            nn.MaxPool2d(kernel_size=2, stride=2) )\n",
    "        \n",
    "        \n",
    "        self.layer2 = nn.Sequential(\n",
    "            nn.Conv2d(in_channels=fil[0], out_channels=fil[1], kernel_size=3, stride=1),\n",
    "            nn.ReLU(inplace=True),\n",
    "            nn.MaxPool2d(kernel_size=2, stride=2) )\n",
    "        \n",
    "        \n",
    "        self.layer3 = nn.Sequential(\n",
    "            nn.Conv2d(in_channels=fil[1], out_channels=fil[2], kernel_size=1, stride=1),\n",
    "            nn.ReLU(inplace=True))\n",
    "            #nn.MaxPool2d(kernel_size=2, stride=2))\n",
    "        \n",
    "        \n",
    "        # fully connected layer\n",
    "        self.fc1 = nn.Sequential(\n",
    "            nn.Linear(in_features=5*5*fil[2], out_features=200),\n",
    "            nn.ReLU(inplace=True))\n",
    "    \n",
    "        self.fc2 = nn.Sequential(\n",
    "            nn.Linear(in_features=200, out_features=80),\n",
    "            nn.ReLU(inplace=True))\n",
    "        \n",
    "        \n",
    "\n",
    "        self.fc3 = nn.Sequential(nn.Linear(in_features=80, out_features=10))\n",
    "        \n",
    "        \n",
    "    def forward(self, x):\n",
    "        out = self.layer3(self.layer2(self.layer1(x)))\n",
    "        out = out.view(out.size(0), -1)\n",
    "        out = self.fc3(self.fc2(self.fc1(out)))\n",
    "        return F.log_softmax(out)"
   ]
  },
  {
   "cell_type": "code",
   "execution_count": 15,
   "metadata": {},
   "outputs": [],
   "source": [
    "# Setting the model & loss function & optimizer\n",
    "DNet = Deep_model()\n",
    "loss_func = nn.CrossEntropyLoss(size_average=False)\n",
    "optimizer = torch.optim.Adam(DNet.parameters(), lr=1e-3, betas=(0.9, 0.99))"
   ]
  },
  {
   "cell_type": "code",
   "execution_count": 16,
   "metadata": {},
   "outputs": [
    {
     "name": "stdout",
     "output_type": "stream",
     "text": [
      "Deep_model :\n",
      "  (layer1): Sequential :\n",
      "    (0): Conv2d(1, 30, kernel_size=(5, 5), stride=(1, 1)), weights=((30, 1, 5, 5), (30,)), parameters=780\n",
      "  ------------------------------------------------------\n",
      "    (1): ReLU(inplace), weights=(), parameters=0\n",
      "  ------------------------------------------------------\n",
      "    (2): MaxPool2d(kernel_size=(2, 2), stride=(2, 2), dilation=(1, 1), ceil_mode=False), weights=(), parameters=0\n",
      "  ------------------------------------------------------\n",
      "  ) \n",
      "  ##Total Parameters = 780 , weights=((30, 1, 5, 5), (30,)), parameters=780\n",
      "------------------------------------------------------\n",
      "  (layer2): Sequential :\n",
      "    (0): Conv2d(30, 35, kernel_size=(3, 3), stride=(1, 1)), weights=((35, 30, 3, 3), (35,)), parameters=9485\n",
      "  ------------------------------------------------------\n",
      "    (1): ReLU(inplace), weights=(), parameters=0\n",
      "  ------------------------------------------------------\n",
      "    (2): MaxPool2d(kernel_size=(2, 2), stride=(2, 2), dilation=(1, 1), ceil_mode=False), weights=(), parameters=0\n",
      "  ------------------------------------------------------\n",
      "  ) \n",
      "  ##Total Parameters = 9485 , weights=((35, 30, 3, 3), (35,)), parameters=9485\n",
      "------------------------------------------------------\n",
      "  (layer3): Sequential :\n",
      "    (0): Conv2d(35, 30, kernel_size=(1, 1), stride=(1, 1)), weights=((30, 35, 1, 1), (30,)), parameters=1080\n",
      "  ------------------------------------------------------\n",
      "    (1): ReLU(inplace), weights=(), parameters=0\n",
      "  ------------------------------------------------------\n",
      "  ) \n",
      "  ##Total Parameters = 1080 , weights=((30, 35, 1, 1), (30,)), parameters=1080\n",
      "------------------------------------------------------\n",
      "  (fc1): Sequential :\n",
      "    (0): Linear(in_features=750, out_features=200, bias=True), weights=((200, 750), (200,)), parameters=150200\n",
      "  ------------------------------------------------------\n",
      "    (1): ReLU(inplace), weights=(), parameters=0\n",
      "  ------------------------------------------------------\n",
      "  ) \n",
      "  ##Total Parameters = 150200 , weights=((200, 750), (200,)), parameters=150200\n",
      "------------------------------------------------------\n",
      "  (fc2): Sequential :\n",
      "    (0): Linear(in_features=200, out_features=80, bias=True), weights=((80, 200), (80,)), parameters=16080\n",
      "  ------------------------------------------------------\n",
      "    (1): ReLU(inplace), weights=(), parameters=0\n",
      "  ------------------------------------------------------\n",
      "  ) \n",
      "  ##Total Parameters = 16080 , weights=((80, 200), (80,)), parameters=16080\n",
      "------------------------------------------------------\n",
      "  (fc3): Sequential :\n",
      "    (0): Linear(in_features=80, out_features=10, bias=True), weights=((10, 80), (10,)), parameters=810\n",
      "  ------------------------------------------------------\n",
      "  ) \n",
      "  ##Total Parameters = 810 , weights=((10, 80), (10,)), parameters=810\n",
      "------------------------------------------------------\n",
      ") \n",
      "##Total Parameters = 178435 \n"
     ]
    }
   ],
   "source": [
    "print(torch_summarize(DNet))"
   ]
  },
  {
   "cell_type": "code",
   "execution_count": 17,
   "metadata": {},
   "outputs": [
    {
     "name": "stderr",
     "output_type": "stream",
     "text": [
      "/home/eric/anaconda3/envs/pytorch_gpu/lib/python3.6/site-packages/ipykernel_launcher.py:44: UserWarning: Implicit dimension choice for log_softmax has been deprecated. Change the call to include dim=X as an argument.\n"
     ]
    },
    {
     "name": "stdout",
     "output_type": "stream",
     "text": [
      "Train Epoch: 1 [3800/60000 (6%)]\tLoss: 366.770233,  Accumulation batch acc=28.1%\n",
      "Train Epoch: 1 [7800/60000 (13%)]\tLoss: 135.742355,  Accumulation batch acc=49.6%\n",
      "Train Epoch: 1 [11800/60000 (20%)]\tLoss: 93.916733,  Accumulation batch acc=61.4%\n",
      "Train Epoch: 1 [15800/60000 (26%)]\tLoss: 82.038795,  Accumulation batch acc=67.9%\n",
      "Train Epoch: 1 [19800/60000 (33%)]\tLoss: 51.646832,  Accumulation batch acc=72.2%\n",
      "Train Epoch: 1 [23800/60000 (40%)]\tLoss: 70.576019,  Accumulation batch acc=75.4%\n",
      "Train Epoch: 1 [27800/60000 (46%)]\tLoss: 29.793171,  Accumulation batch acc=77.9%\n",
      "Train Epoch: 1 [31800/60000 (53%)]\tLoss: 19.501791,  Accumulation batch acc=80.0%\n",
      "Train Epoch: 1 [35800/60000 (60%)]\tLoss: 24.378628,  Accumulation batch acc=81.7%\n",
      "Train Epoch: 1 [39800/60000 (66%)]\tLoss: 29.607759,  Accumulation batch acc=83.1%\n",
      "Train Epoch: 1 [43800/60000 (73%)]\tLoss: 31.054874,  Accumulation batch acc=84.3%\n",
      "Train Epoch: 1 [47800/60000 (80%)]\tLoss: 23.495838,  Accumulation batch acc=85.3%\n",
      "Train Epoch: 1 [51800/60000 (86%)]\tLoss: 14.021351,  Accumulation batch acc=86.1%\n",
      "Train Epoch: 1 [55800/60000 (93%)]\tLoss: 22.884119,  Accumulation batch acc=86.8%\n",
      "Train Epoch: 1 [59800/60000 (100%)]\tLoss: 17.105442,  Accumulation batch acc=87.5%\n",
      "Train Epoch: 2 [3800/60000 (6%)]\tLoss: 14.681189,  Accumulation batch acc=97.0%\n",
      "Train Epoch: 2 [7800/60000 (13%)]\tLoss: 10.660532,  Accumulation batch acc=97.2%\n",
      "Train Epoch: 2 [11800/60000 (20%)]\tLoss: 24.991585,  Accumulation batch acc=97.3%\n",
      "Train Epoch: 2 [15800/60000 (26%)]\tLoss: 16.203720,  Accumulation batch acc=97.3%\n",
      "Train Epoch: 2 [19800/60000 (33%)]\tLoss: 19.821259,  Accumulation batch acc=97.3%\n",
      "Train Epoch: 2 [23800/60000 (40%)]\tLoss: 10.361759,  Accumulation batch acc=97.3%\n",
      "Train Epoch: 2 [27800/60000 (46%)]\tLoss: 23.170311,  Accumulation batch acc=97.3%\n",
      "Train Epoch: 2 [31800/60000 (53%)]\tLoss: 23.077343,  Accumulation batch acc=97.3%\n",
      "Train Epoch: 2 [35800/60000 (60%)]\tLoss: 6.488492,  Accumulation batch acc=97.3%\n",
      "Train Epoch: 2 [39800/60000 (66%)]\tLoss: 20.268070,  Accumulation batch acc=97.4%\n",
      "Train Epoch: 2 [43800/60000 (73%)]\tLoss: 8.840987,  Accumulation batch acc=97.4%\n",
      "Train Epoch: 2 [47800/60000 (80%)]\tLoss: 27.512354,  Accumulation batch acc=97.4%\n",
      "Train Epoch: 2 [51800/60000 (86%)]\tLoss: 18.465469,  Accumulation batch acc=97.5%\n",
      "Train Epoch: 2 [55800/60000 (93%)]\tLoss: 5.769819,  Accumulation batch acc=97.5%\n",
      "Train Epoch: 2 [59800/60000 (100%)]\tLoss: 5.859987,  Accumulation batch acc=97.6%\n"
     ]
    }
   ],
   "source": [
    "iters = 0\n",
    "for epoch in range(10):\n",
    "    correct = 0\n",
    "    for i, (images, labels) in enumerate(trainloader):\n",
    "        # convert tensor to Variable\n",
    "        images = Variable(images)\n",
    "        labels = Variable(labels)\n",
    "\n",
    "        # clear gradients w.r.t parameters\n",
    "        optimizer.zero_grad()\n",
    "\n",
    "        # forward pass\n",
    "        outputs = DNet(images)\n",
    "\n",
    "        # calculate loss\n",
    "        loss = loss_func(outputs, labels)\n",
    "\n",
    "        # get gradient w.r.t parameters\n",
    "        loss.backward()\n",
    "\n",
    "        # update parameters\n",
    "        optimizer.step()\n",
    "\n",
    "        iters += 1\n",
    "        # Accuracy (each batch)\n",
    "        pred = outputs.data.max(1)[1] # get the index of the max log-probability\n",
    "        correct += pred.eq(labels.data).cpu().sum()\n",
    "        Acc = correct / ((i+1)*BATCH_SIZE) * 100\n",
    "        if iters % 20 == 0:     \n",
    "            print('Train Epoch: {} [{}/{} ({:.0f}%)]\\tLoss: {:.6f},  Accumulation batch acc={:.1f}%'.format(\n",
    "                    epoch+1, i * len(images), len(trainloader.dataset),\n",
    "                    100. * i / len(trainloader), loss.data[0], Acc))\n",
    "    if Acc >= 97: break     "
   ]
  },
  {
   "cell_type": "code",
   "execution_count": null,
   "metadata": {},
   "outputs": [],
   "source": []
  },
  {
   "cell_type": "code",
   "execution_count": null,
   "metadata": {},
   "outputs": [],
   "source": []
  }
 ],
 "metadata": {
  "kernelspec": {
   "display_name": "Python 3",
   "language": "python",
   "name": "python3"
  },
  "language_info": {
   "codemirror_mode": {
    "name": "ipython",
    "version": 3
   },
   "file_extension": ".py",
   "mimetype": "text/x-python",
   "name": "python",
   "nbconvert_exporter": "python",
   "pygments_lexer": "ipython3",
   "version": "3.6.4"
  }
 },
 "nbformat": 4,
 "nbformat_minor": 2
}
